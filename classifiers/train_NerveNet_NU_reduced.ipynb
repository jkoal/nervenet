{
 "cells": [
  {
   "cell_type": "code",
   "execution_count": 1,
   "metadata": {},
   "outputs": [],
   "source": [
    "import torch.nn.functional as F\n",
    "import torchvision.models as models\n",
    "import numpy as np\n",
    "import matplotlib.pyplot as plt\n",
    "import torch\n",
    "from torch.autograd import Variable\n",
    "from torchvision import transforms, datasets\n",
    "\n",
    "from classifiers.NerveNet_NU_reduced import NerveNET, BinaryOut\n",
    "from data_utils_NerveNet_NU import SegmentationData\n",
    "from solver_NerveNet_NU import Solver\n",
    "import transform_utils_NerveNet as tu\n",
    "from dice_loss_NU import DiceLoss\n",
    "\n",
    "%load_ext autoreload\n",
    "%autoreload 2"
   ]
  },
  {
   "cell_type": "markdown",
   "metadata": {},
   "source": [
    "The following calculates the **sizes of train, validation and test set**. Make sure it returns **True** by modifying the values in the dictionary 'nums'."
   ]
  },
  {
   "cell_type": "code",
   "execution_count": 2,
   "metadata": {
    "scrolled": false
   },
   "outputs": [
    {
     "name": "stdout",
     "output_type": "stream",
     "text": [
      "{'num_train': 758, 'num_val': 252, 'num_test': 252} 1262\n",
      "True\n"
     ]
    }
   ],
   "source": [
    "img_files = 'image_files_maskonly.txt'#'image_files.txt' #'image_files_maskonly.txt'\n",
    "num_lines = sum(1 for line in open(img_files, 'r'))\n",
    "num_lines = sum(1 for line in open(img_files, 'r'))\n",
    "nums = {'num_train' : int(0.6*num_lines)+1,\n",
    "        'num_val'   : int(0.2*num_lines),\n",
    "        'num_test' : int(0.2*num_lines)}\n",
    "\n",
    "print(nums, num_lines)\n",
    "print(np.sum(list(nums.values())) == num_lines)"
   ]
  },
  {
   "cell_type": "markdown",
   "metadata": {},
   "source": [
    "**New in dataloader**: \n",
    "1. The dataloader has the new flag **binary_out**. If True, it will return a binary value that is if a nerve mask is contained in the target or not. Calling e.g. train_data[0] will return inputs and targets, where targets is now a dictionary with keys **'main'** and **'binary'**, if binary_out is True.\n",
    "2. The text file that contains the image id's can now be in the git project directory."
   ]
  },
  {
   "cell_type": "code",
   "execution_count": 9,
   "metadata": {
    "collapsed": true
   },
   "outputs": [],
   "source": [
    "input_dim = (1, 32, 32)\n",
    "\n",
    "train_transforms = tu.Compose([tu.Resize(input_dim[1::]),\n",
    "                               tu.RandomHorizontalFlip(),\n",
    "                               tu.RandomVerticalFlip(),                               \n",
    "                               tu.ToTensor()])\n",
    "\n",
    "val_transforms = tu.Compose([tu.Resize(input_dim[1::]),\n",
    "                               tu.ToTensor()])\n",
    "\n",
    "\n",
    "train_data = SegmentationData(img_files, transform = train_transforms, mode = 'train', **nums, binary_out = True)\n",
    "train_loader = torch.utils.data.DataLoader(train_data,\n",
    "                                           batch_size=4,\n",
    "                                           shuffle=True,\n",
    "                                           num_workers=4)\n",
    "\n",
    "val_data = SegmentationData(img_files,  transform = val_transforms, mode = 'val', **nums)\n",
    "val_loader = torch.utils.data.DataLoader(train_data,\n",
    "                                           batch_size=4,\n",
    "                                           shuffle=True,\n",
    "                                           num_workers=4)"
   ]
  },
  {
   "cell_type": "markdown",
   "metadata": {},
   "source": [
    "**New in classifier**: \n",
    "1. NerveNet has a new **binary_out** flag, too. If True, the forward pass will calculate a binary output. Similarly the output of the forward pass is a dictionary with keys 'main' and 'binary'.\n",
    "2. The argument **upsample_unit** is a switch between simple upsampling with bilinear interpolation and transposed convolutional layers. Must be either **'Upsample'** or **'ConvTranspose2d'**. Default is 'Upsample'.\n",
    "3. **Xavier Normal Initialization** is automatically applied to all NerveNet layers."
   ]
  },
  {
   "cell_type": "code",
   "execution_count": 10,
   "metadata": {
    "collapsed": true
   },
   "outputs": [],
   "source": [
    "model = NerveNET(input_dim, num_classes = 2, weight_scale = 0.01, dropout = 0.05, \n",
    "                binary_out = True, upsample_unit='Upsample')\n",
    "#model = torch.load(\"models/NerveNet_NU_2class.model\")\n",
    "#model.binary_out = True"
   ]
  },
  {
   "cell_type": "code",
   "execution_count": 11,
   "metadata": {
    "collapsed": true
   },
   "outputs": [],
   "source": [
    "#model.binary = BinaryOut(4, 4, torch.nn.Softmax(dim = 0), 2, weight_scale = True)\n",
    "#model.binary"
   ]
  },
  {
   "cell_type": "code",
   "execution_count": 12,
   "metadata": {
    "collapsed": true
   },
   "outputs": [],
   "source": [
    "for param in list(model.parameters()):\n",
    "    param.requires_grad = True\n",
    "\n",
    "for param in list(model.binary.parameters()):\n",
    "    param.requires_grad = False\n",
    "#layers = [model.down1, model.down2, model.down3, model.down4, model.binary]\n",
    "#for layer in layers:\n",
    "#    for param in list(layer.parameters()):\n",
    "#        param.requires_grad = True"
   ]
  },
  {
   "cell_type": "code",
   "execution_count": 13,
   "metadata": {},
   "outputs": [],
   "source": [
    "#for param in list(model.parameters()):\n",
    "#      print(param.requires_grad)\n"
   ]
  },
  {
   "cell_type": "markdown",
   "metadata": {},
   "source": [
    "**New in solver**:\n",
    "1. Solver exspects new **binary_out** argument. Here, it should be a float value, that gives the weight of the loss of the binary output. The main output is implicitly weighted with one, so that **binary_out** should be **smaller than one**. If **binary_out** is equal to **zero**, **no binary loss** will be computed.\n",
    "2. Train and validation are two seperate functions which seems to be more memory efficient and clearly structured.\n",
    "3. Printing loss and accuracy were wrapped in seperate functions, too, to further enhance readability of the code.\n",
    "\n",
    "**New in DiceLoss**:\n",
    "1. DiceLoss now calculates and automatically detects the loss on **doubleclass input** (Batchsize, Classes = 2, H, W) with single class target (Batchsize, Classes = 1, H, W) by inverting the target for Class = 0 and adding losses for both classes.\n",
    "2. The argument **classweights** receives weights for losses from class 0 and class 1, respectively. Default is [1, 1].\n",
    "3. **Singleclass input** still doable. E.g. initialize model with **num_classes = 1** will work.\n",
    "\n"
   ]
  },
  {
   "cell_type": "code",
   "execution_count": null,
   "metadata": {
    "scrolled": false
   },
   "outputs": [
    {
     "name": "stdout",
     "output_type": "stream",
     "text": [
      "START TRAIN.\n",
      "|Iteration 10/950| TRAIN loss: 0.231\n",
      "|Iteration 20/950| TRAIN loss: 0.227\n",
      "|Iteration 30/950| TRAIN loss: 0.201\n",
      "|Iteration 40/950| TRAIN loss: 0.228\n",
      "|Iteration 50/950| TRAIN loss: 0.214\n",
      "|Iteration 60/950| TRAIN loss: 0.216\n",
      "|Iteration 70/950| TRAIN loss: 0.217\n",
      "|Iteration 80/950| TRAIN loss: 0.208\n",
      "|Iteration 90/950| TRAIN loss: 0.263\n",
      "|Iteration 100/950| TRAIN loss: 0.243\n",
      "|Iteration 110/950| TRAIN loss: 0.227\n",
      "|Iteration 120/950| TRAIN loss: 0.206\n",
      "|Iteration 130/950| TRAIN loss: 0.189\n",
      "|Iteration 140/950| TRAIN loss: 0.170\n",
      "|Iteration 150/950| TRAIN loss: 0.213\n",
      "|Iteration 160/950| TRAIN loss: 0.277\n",
      "|Iteration 170/950| TRAIN loss: 0.249\n",
      "|Iteration 180/950| TRAIN loss: 0.251\n",
      "|Iteration 190/950| TRAIN loss: 0.207\n",
      "|Epoch 1/5| TRAIN acc: 0.699\n",
      "|Epoch 1/5| VAL acc: 0.747\n",
      "|Iteration 200/950| TRAIN loss: 0.183\n",
      "|Iteration 210/950| TRAIN loss: 0.247\n",
      "|Iteration 220/950| TRAIN loss: 0.203\n",
      "|Iteration 230/950| TRAIN loss: 0.217\n",
      "|Iteration 240/950| TRAIN loss: 0.186\n",
      "|Iteration 250/950| TRAIN loss: 0.191\n",
      "|Iteration 260/950| TRAIN loss: 0.164\n",
      "|Iteration 270/950| TRAIN loss: 0.245\n",
      "|Iteration 280/950| TRAIN loss: 0.196\n",
      "|Iteration 290/950| TRAIN loss: 0.153\n",
      "|Iteration 300/950| TRAIN loss: 0.225\n",
      "|Iteration 310/950| TRAIN loss: 0.211\n",
      "|Iteration 320/950| TRAIN loss: 0.237\n",
      "|Iteration 330/950| TRAIN loss: 0.224\n",
      "|Iteration 340/950| TRAIN loss: 0.211\n",
      "|Iteration 350/950| TRAIN loss: 0.195\n",
      "|Iteration 360/950| TRAIN loss: 0.221\n",
      "|Iteration 370/950| TRAIN loss: 0.196\n",
      "|Iteration 380/950| TRAIN loss: 0.198\n",
      "|Epoch 2/5| TRAIN acc: 0.788\n",
      "|Epoch 2/5| VAL acc: 0.760\n",
      "|Iteration 390/950| TRAIN loss: 0.203\n",
      "|Iteration 400/950| TRAIN loss: 0.186\n",
      "|Iteration 410/950| TRAIN loss: 0.186\n",
      "|Iteration 420/950| TRAIN loss: 0.189\n",
      "|Iteration 430/950| TRAIN loss: 0.184\n",
      "|Iteration 440/950| TRAIN loss: 0.204\n",
      "|Iteration 450/950| TRAIN loss: 0.223\n",
      "|Iteration 460/950| TRAIN loss: 0.216\n",
      "|Iteration 470/950| TRAIN loss: 0.167\n",
      "|Iteration 480/950| TRAIN loss: 0.238\n",
      "|Iteration 490/950| TRAIN loss: 0.213\n",
      "|Iteration 500/950| TRAIN loss: 0.232\n",
      "|Iteration 510/950| TRAIN loss: 0.174\n",
      "|Iteration 520/950| TRAIN loss: 0.203\n",
      "|Iteration 530/950| TRAIN loss: 0.226\n",
      "|Iteration 540/950| TRAIN loss: 0.179\n",
      "|Iteration 550/950| TRAIN loss: 0.168\n",
      "|Iteration 560/950| TRAIN loss: 0.206\n",
      "|Iteration 570/950| TRAIN loss: 0.232\n",
      "|Epoch 3/5| TRAIN acc: 0.605\n",
      "|Epoch 3/5| VAL acc: 0.769\n",
      "|Iteration 580/950| TRAIN loss: 0.186\n",
      "|Iteration 590/950| TRAIN loss: 0.228\n",
      "|Iteration 600/950| TRAIN loss: 0.180\n",
      "|Iteration 610/950| TRAIN loss: 0.238\n",
      "|Iteration 620/950| TRAIN loss: 0.191\n",
      "|Iteration 630/950| TRAIN loss: 0.211\n",
      "|Iteration 640/950| TRAIN loss: 0.213\n",
      "|Iteration 650/950| TRAIN loss: 0.186\n",
      "|Iteration 660/950| TRAIN loss: 0.173\n",
      "|Iteration 670/950| TRAIN loss: 0.204\n",
      "|Iteration 680/950| TRAIN loss: 0.189\n",
      "|Iteration 690/950| TRAIN loss: 0.204\n",
      "|Iteration 700/950| TRAIN loss: 0.186\n",
      "|Iteration 710/950| TRAIN loss: 0.191\n",
      "|Iteration 720/950| TRAIN loss: 0.193\n"
     ]
    }
   ],
   "source": [
    "solver = Solver(optim_args={\"lr\": 0.00005, #0.0025, #1.e-3, #1.e-2\n",
    "                            \"betas\": (0.9, 0.999),\n",
    "                            \"eps\": 1e-8,\n",
    "                            \"weight_decay\": 0.001},\n",
    "                loss_func = DiceLoss(classweights = [0.01, 0.99]), binary_out = 0)\n",
    "\n",
    "model.train()\n",
    "outputs = solver.train(model, train_loader, val_loader, log_nth=10, num_epochs=5)"
   ]
  },
  {
   "cell_type": "code",
   "execution_count": null,
   "metadata": {
    "collapsed": true
   },
   "outputs": [],
   "source": [
    "model.save(\"models/NerveNet_NU_2class.model\")"
   ]
  },
  {
   "cell_type": "code",
   "execution_count": 15,
   "metadata": {
    "collapsed": true
   },
   "outputs": [],
   "source": [
    "img_files = 'image_files.txt'\n",
    "\n",
    "\n",
    "test_data = SegmentationData(img_files,  transform = val_transforms, mode = 'test', **nums)\n",
    "test_loader = torch.utils.data.DataLoader(test_data,\n",
    "                                          batch_size=1,\n",
    "                                          shuffle=False,\n",
    "                                          num_workers=1)"
   ]
  },
  {
   "cell_type": "code",
   "execution_count": 16,
   "metadata": {
    "scrolled": false
   },
   "outputs": [
    {
     "data": {
      "image/png": "[encoded data removed]",
      "text/plain": [
       "<matplotlib.figure.Figure at 0x7f23fb31e5c0>"
      ]
     },
     "metadata": {},
     "output_type": "display_data"
    }
   ],
   "source": [
    "model.eval()\n",
    "\n",
    "img, targets = test_data[116]\n",
    "\n",
    "target = targets['main']\n",
    "inputs = img.unsqueeze(0)\n",
    "inputs = Variable(inputs)\n",
    "\n",
    "model=model.cpu()\n",
    "\n",
    "outputs = model.forward(inputs)\n",
    "pred = outputs['main']\n",
    "_, pred = torch.max(pred, 1)\n",
    "binary_probs, binary = torch.max(outputs['binary'], 1)\n",
    "#if binary.data.numpy() == 0:\n",
    "#    pred = pred * 0\n",
    "    \n",
    "pred = pred.squeeze().data.cpu().numpy()\n",
    "img=np.squeeze(img)\n",
    "target = target.squeeze().numpy()\n",
    "\n",
    "fig, ax = plt.subplots(1, 3)\n",
    "ax[0].imshow(img)\n",
    "ax[0].axis('off')\n",
    "ax[1].imshow(target)\n",
    "ax[1].axis('off')\n",
    "ax[2].imshow(pred)\n",
    "ax[2].axis('off')\n",
    "plt.show()"
   ]
  },
  {
   "cell_type": "code",
   "execution_count": 17,
   "metadata": {},
   "outputs": [
    {
     "data": {
      "image/png": "[encoded data removed]",
      "text/plain": [
       "<matplotlib.figure.Figure at 0x7f23fb072ef0>"
      ]
     },
     "metadata": {},
     "output_type": "display_data"
    }
   ],
   "source": [
    "num_example_imgs = 10\n",
    "plt.figure(figsize=(15, 5 * num_example_imgs))\n",
    "for i, (img, targets) in enumerate(test_data[30:40]):\n",
    "    \n",
    "    target = targets['main']\n",
    "    inputs = img.unsqueeze(0)\n",
    "    inputs = Variable(inputs)\n",
    "\n",
    "    outputs = model.forward(inputs)\n",
    "    pred = outputs['main']\n",
    "    _, pred = torch.max(pred, 1)\n",
    "    binary_probs, binary = torch.max(outputs['binary'], 1)\n",
    "    #if binary.data.numpy() == 0:\n",
    "     #   pred = pred * 0\n",
    "    pred = pred.squeeze().data.cpu().numpy()\n",
    "\n",
    "    img=np.squeeze(img)\n",
    "    target = target.squeeze().numpy()\n",
    "        \n",
    "    # img\n",
    "    plt.subplot(num_example_imgs, 3, i * 3 + 1)\n",
    "    plt.axis('off')\n",
    "    plt.imshow(img, cmap='gray')\n",
    "    if i == 0:\n",
    "        plt.title(\"Input image\")\n",
    "    \n",
    "    # target\n",
    "    plt.subplot(num_example_imgs, 3, i * 3 + 2)\n",
    "    plt.axis('off')\n",
    "    plt.imshow(target, cmap='gray')\n",
    "    if i == 0:\n",
    "        plt.title(\"Target image\")\n",
    "\n",
    "    # pred\n",
    "    plt.subplot(num_example_imgs, 3, i * 3 + 3)\n",
    "    plt.axis('off')\n",
    "    plt.imshow(pred, cmap='gray')\n",
    "    if i == 0:\n",
    "        plt.title(\"Prediction image\")\n",
    "    \n",
    "plt.show()"
   ]
  },
  {
   "cell_type": "code",
   "execution_count": null,
   "metadata": {
    "scrolled": false
   },
   "outputs": [],
   "source": [
    "def dice_coefficient(ground_truth, predicted):\n",
    "    gt = ground_truth\n",
    "    p = predicted\n",
    "    if np.sum(p) + np.sum(gt) == 0:\n",
    "        return 1\n",
    "    else:\n",
    "        dice = np.sum(p[gt==1])*2.0 / (np.sum(p) + np.sum(gt))\n",
    "        return dice\n",
    "\n",
    "test_scores = []\n",
    "model.eval()\n",
    "for inputs, targets in test_loader:\n",
    "    inputs, targets = Variable(inputs), Variable(targets['main'])\n",
    "    if model.is_cuda:\n",
    "        inputs, targets = inputs.cuda(), targets.cuda()\n",
    "    \n",
    "    outputs = model.forward(inputs)\n",
    "    pred = outputs['main']\n",
    "    _, pred = torch.max(pred, 1)\n",
    "    _, binary = torch.max(outputs['binary'], 1)\n",
    "    if binary.data.numpy() == 0:\n",
    "        pred = pred * 0\n",
    "    \n",
    "    pred = pred.squeeze().data.cpu().numpy()\n",
    "    test_scores.append(dice_coefficient(np.squeeze(targets.data.numpy()), pred))\n",
    "    \n",
    "np.mean(test_scores)"
   ]
  },
  {
   "cell_type": "code",
   "execution_count": null,
   "metadata": {},
   "outputs": [],
   "source": [
    "x = np.array(test_scores)\n",
    "x[x==1] = 0\n",
    "np.argmax(x)"
   ]
  },
  {
   "cell_type": "code",
   "execution_count": null,
   "metadata": {},
   "outputs": [],
   "source": [
    "x"
   ]
  },
  {
   "cell_type": "code",
   "execution_count": null,
   "metadata": {
    "collapsed": true
   },
   "outputs": [],
   "source": [
    "N = 0\n",
    "mask = 0\n",
    "for _, (img, target) in enumerate(test_data):\n",
    "    N += target['main'].numel()\n",
    "    mask += target['main'].sum()"
   ]
  },
  {
   "cell_type": "code",
   "execution_count": null,
   "metadata": {},
   "outputs": [],
   "source": [
    "1 - mask/N"
   ]
  },
  {
   "cell_type": "code",
   "execution_count": null,
   "metadata": {
    "collapsed": true
   },
   "outputs": [],
   "source": []
  }
 ],
 "metadata": {
  "kernelspec": {
   "display_name": "Python 3",
   "language": "python",
   "name": "python3"
  },
  "language_info": {
   "codemirror_mode": {
    "name": "ipython",
    "version": 3
   },
   "file_extension": ".py",
   "mimetype": "text/x-python",
   "name": "python",
   "nbconvert_exporter": "python",
   "pygments_lexer": "ipython3",
   "version": "3.6.4"
  }
 },
 "nbformat": 4,
 "nbformat_minor": 2
}
