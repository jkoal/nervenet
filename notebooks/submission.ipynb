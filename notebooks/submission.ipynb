{
 "cells": [
  {
   "cell_type": "code",
   "execution_count": 1,
   "metadata": {},
   "outputs": [],
   "source": [
    "import torch.nn.functional as F\n",
    "import torchvision.models as models\n",
    "import numpy as np\n",
    "import matplotlib.pyplot as plt\n",
    "from torch.autograd import Variable\n",
    "from torchvision import transforms, datasets\n",
    "import torch\n",
    "\n",
    "from classifiers.NerveNet import NerveNET, BinaryOut\n",
    "from data_utils_NerveNet import SegmentationData\n",
    "from solver_NerveNet import Solver\n",
    "import transform_utils_NerveNet as tu\n",
    "from dice_loss import DiceLoss\n",
    "\n",
    "import run_length_encoder as rle\n",
    "from tqdm import tqdm\n",
    "\n",
    "%load_ext autoreload\n",
    "%autoreload 2"
   ]
  },
  {
   "cell_type": "code",
   "execution_count": 2,
   "metadata": {
    "collapsed": true
   },
   "outputs": [],
   "source": [
    "img_files = 'test_files.txt' "
   ]
  },
  {
   "cell_type": "code",
   "execution_count": 3,
   "metadata": {
    "collapsed": true
   },
   "outputs": [],
   "source": [
    "input_dim = (1, 128, 128)\n",
    "\n",
    "test_transforms = tu.Compose([tu.Resize(input_dim[1::]),\n",
    "                               tu.ToTensor()])\n",
    "\n",
    "test_data = SegmentationData(img_files, transform = test_transforms, mode = 'all', shuffle = False)\n",
    "test_loader = torch.utils.data.DataLoader(test_data,\n",
    "                                           batch_size=4,\n",
    "                                           num_workers=4)\n",
    "test_data.eval_mode()"
   ]
  },
  {
   "cell_type": "code",
   "execution_count": 4,
   "metadata": {},
   "outputs": [
    {
     "name": "stderr",
     "output_type": "stream",
     "text": [
      "/usr/lib64/python3.6/site-packages/torch/serialization.py:316: SourceChangeWarning: source code of class 'classifiers.NerveNet.NerveNET' has changed. you can retrieve the original source code by accessing the object's source attribute or set `torch.nn.Module.dump_patches = True` and use the patch tool to revert the changes.\n",
      "  warnings.warn(msg, SourceChangeWarning)\n"
     ]
    }
   ],
   "source": [
    "model = torch.load(\"models/NerveNet_binary.model\", map_location=lambda storage, loc: storage)"
   ]
  },
  {
   "cell_type": "code",
   "execution_count": 5,
   "metadata": {
    "collapsed": true
   },
   "outputs": [],
   "source": [
    "org_size = (420, 580) \n",
    "def enlarge(img, shape = org_size):\n",
    "    img = img.data.type('torch.FloatTensor')\n",
    "    img = tu.ToPILImage()(img)\n",
    "    img = tu.Resize(shape)(img)\n",
    "    return np.array(img)\n",
    "    "
   ]
  },
  {
   "cell_type": "code",
   "execution_count": 7,
   "metadata": {
    "scrolled": true
   },
   "outputs": [
    {
     "name": "stderr",
     "output_type": "stream",
     "text": [
      "100%|██████████| 5508/5508 [57:04<00:00,  1.61it/s]\n"
     ]
    }
   ],
   "source": [
    "lt = len(test_data)\n",
    "with open('submission_NerveNet_binary.csv', 'w') as file:\n",
    "    file.write('img,pixels\\n')\n",
    "    for img_no, inputs in enumerate(tqdm(test_data)):\n",
    "        \n",
    "        inputs = Variable(inputs).unsqueeze(0)\n",
    "        if model.is_cuda:\n",
    "            inputs = inputs.cuda()\n",
    "\n",
    "        outputs = model.forward(inputs)\n",
    "        pred = outputs['main']\n",
    "        _, pred = torch.max(pred, 1)\n",
    "        _, binary = torch.max(outputs['binary'], 1)\n",
    "\n",
    "        #Comment/Uncomment to compare with and without binary classification\n",
    "        if binary.data.numpy() == 0:\n",
    "            pred = pred * 0\n",
    "\n",
    "        pred = enlarge(pred)\n",
    "        pred_rle = rle.encode(pred, thresh = 254)\n",
    "        \n",
    "        file.write('%s,'%(img_no+1) + ' '.join([str(x) for x in pred_rle]) + '\\n') \n",
    "    "
   ]
  },
  {
   "cell_type": "code",
   "execution_count": null,
   "metadata": {},
   "outputs": [],
   "source": [
    "num_example_imgs = 20\n",
    "plt.figure(figsize=(15, 5 * num_example_imgs))\n",
    "for i, img in enumerate(test_data[0:10]):\n",
    "    \n",
    "    inputs = img.unsqueeze(0)\n",
    "    inputs = Variable(inputs)\n",
    "\n",
    "    outputs = model.forward(inputs)\n",
    "    pred = outputs['main']\n",
    "    _, pred = torch.max(pred, 1)\n",
    "    binary_probs, binary = torch.max(outputs['binary'], 1)\n",
    "    \n",
    "    #If binary predicts no nerve we just multiply the predicted image with zeros.\n",
    "    #Comment/Uncomment and plot to compare with/without of binary classification\n",
    "    if binary.data.numpy() == 0:\n",
    "        pred = pred * 0\n",
    "    \n",
    "    pred_rle = rle.decode(rle.encode(enlarge(pred), thresh = 200))\n",
    "    if np.any(pred_rle) > 0:\n",
    "        print(True)\n",
    "    else:\n",
    "        print(False)\n",
    "    pred = pred.squeeze().data.cpu().numpy()\n",
    "\n",
    "    img=np.squeeze(img)\n",
    "            \n",
    "    # img\n",
    "    plt.subplot(num_example_imgs, 3, i * 3 + 1)\n",
    "    plt.axis('off')\n",
    "    plt.imshow(img, cmap='gray')\n",
    "    if i == 0:\n",
    "        plt.title(\"Input image\")\n",
    "        \n",
    "    # pred\n",
    "    plt.subplot(num_example_imgs, 3, i * 3 + 2)\n",
    "    plt.axis('off')\n",
    "    plt.imshow(pred, cmap='gray')\n",
    "    if i == 0:\n",
    "        plt.title(\"Prediction image\")\n",
    "        \n",
    "    # en- decoded and enlarged image\n",
    "        # pred\n",
    "    plt.subplot(num_example_imgs, 3, i * 3 + 3)\n",
    "    plt.axis('off')\n",
    "    plt.imshow(pred_rle, cmap='gray')\n",
    "    if i == 0:\n",
    "        plt.title(\"en- decoded and enlarged\")\n",
    "    \n",
    "plt.show()"
   ]
  },
  {
   "cell_type": "code",
   "execution_count": null,
   "metadata": {
    "collapsed": true
   },
   "outputs": [],
   "source": [
    "with open('submission_NerveNet_binary.csv', 'r') as f:\n",
    "    with open('submission_NerveNet_binary_temp.csv', 'w') as g:\n",
    "        g.write('img,pixels\\n')\n",
    "        lines = f.readlines()\n",
    "        newlines = []\n",
    "        for i, l in enumerate(lines[1::]):\n",
    "            idx = l.find(',')\n",
    "            newlines.append('%s'%(i+1) + l[idx::])\n",
    "        g.writelines(newlines)\n",
    "                "
   ]
  },
  {
   "cell_type": "code",
   "execution_count": null,
   "metadata": {
    "collapsed": true
   },
   "outputs": [],
   "source": []
  }
 ],
 "metadata": {
  "kernelspec": {
   "display_name": "Python 3",
   "language": "python",
   "name": "python3"
  },
  "language_info": {
   "codemirror_mode": {
    "name": "ipython",
    "version": 3
   },
   "file_extension": ".py",
   "mimetype": "text/x-python",
   "name": "python",
   "nbconvert_exporter": "python",
   "pygments_lexer": "ipython3",
   "version": "3.6.4"
  }
 },
 "nbformat": 4,
 "nbformat_minor": 2
}
