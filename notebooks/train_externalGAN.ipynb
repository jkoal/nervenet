{
 "cells": [
  {
   "cell_type": "code",
   "execution_count": 1,
   "metadata": {
    "collapsed": true
   },
   "outputs": [],
   "source": [
    "import torch.nn.functional as F\n",
    "import torchvision.models as models\n",
    "import numpy as np\n",
    "import matplotlib.pyplot as plt\n",
    "import torch\n",
    "from torch.autograd import Variable\n",
    "from torchvision import transforms, datasets\n",
    "\n",
    "from classifiers.externalGAN import Discriminator, Generator\n",
    "from data_utils_NerveNet import SegmentationData\n",
    "from solver_externalGAN import Solver\n",
    "import transform_utils_NerveNet as tu\n",
    "from dice_loss import DiceLoss\n",
    "\n",
    "%load_ext autoreload\n",
    "%autoreload 2"
   ]
  },
  {
   "cell_type": "markdown",
   "metadata": {},
   "source": [
    "### Define and Divide Dataset\n",
    "The following calculates the **sizes of train, validation and test set**. Make sure it returns **True** by modifying the values in the dictionary 'nums'."
   ]
  },
  {
   "cell_type": "code",
   "execution_count": 2,
   "metadata": {
    "scrolled": false
   },
   "outputs": [
    {
     "name": "stdout",
     "output_type": "stream",
     "text": [
      "{'num_train': 1278, 'num_val': 425, 'num_test': 425} 2128\n",
      "True\n"
     ]
    }
   ],
   "source": [
    "img_files = 'image_files.txt' \n",
    "num_lines = sum(1 for line in open(img_files, 'r'))\n",
    "num_lines = sum(1 for line in open(img_files, 'r'))\n",
    "nums = {'num_train' : int(0.6*num_lines)+2,\n",
    "        'num_val'   : int(0.2*num_lines),\n",
    "        'num_test' : int(0.2*num_lines)}\n",
    "\n",
    "print(nums, num_lines)\n",
    "print(np.sum(list(nums.values())) == num_lines)"
   ]
  },
  {
   "cell_type": "markdown",
   "metadata": {},
   "source": [
    "### 1. Train Nervenet without binary influence on dataset that contains only masked images.\n",
    "Therefore, freeze all weights of model.binary and set train_data argument mask_only to true. The idea behind this is that the encoding stage can properly find filters for detecting nerves.\n",
    "\n",
    "#### 1.1 Freeze Binary Output and Encoder Layers."
   ]
  },
  {
   "cell_type": "code",
   "execution_count": 3,
   "metadata": {},
   "outputs": [
    {
     "name": "stderr",
     "output_type": "stream",
     "text": [
      "/usr/lib64/python3.6/site-packages/torch/serialization.py:316: SourceChangeWarning: source code of class 'classifiers.NerveNet.NerveNET' has changed. you can retrieve the original source code by accessing the object's source attribute or set `torch.nn.Module.dump_patches = True` and use the patch tool to revert the changes.\n",
      "  warnings.warn(msg, SourceChangeWarning)\n"
     ]
    }
   ],
   "source": [
    "input_dim = (1, 128, 128)\n",
    "model = torch.load(\"models/NerveNet+b_best.model\", map_location=lambda storage, loc: storage)\n",
    "#model = NerveNET(input_dim, weight_scale = True)\n",
    "#model = torch.load(\"models/SegNet.model\")\n",
    "#model.binary_out = True"
   ]
  },
  {
   "cell_type": "code",
   "execution_count": 4,
   "metadata": {
    "collapsed": true
   },
   "outputs": [],
   "source": [
    "discr_model = Discriminator(input_dim, weight_scale = True, dropout = 0.05)\n",
    "gen_model = Generator(input_dim, weight_scale = True, dropout = 0.05)"
   ]
  },
  {
   "cell_type": "markdown",
   "metadata": {},
   "source": [
    "#### 1.2 Initialize Dataloader with masked images only"
   ]
  },
  {
   "cell_type": "code",
   "execution_count": 5,
   "metadata": {
    "collapsed": true
   },
   "outputs": [],
   "source": [
    "#be aware about how these are set\n",
    "binary_out = True \n",
    "mask_only = True\n",
    "\n",
    "train_transforms = tu.Compose([tu.Resize(input_dim[1::]),\n",
    "                               tu.RandomHorizontalFlip(),\n",
    "                               tu.RandomVerticalFlip(),                               \n",
    "                               tu.ToTensor()])\n",
    "\n",
    "train_data = SegmentationData(img_files, transform = train_transforms, mode = 'train', **nums, \n",
    "                              binary_out = binary_out, mask_only = mask_only)\n",
    "train_loader = torch.utils.data.DataLoader(train_data,\n",
    "                                           batch_size=2,\n",
    "                                           shuffle=True,\n",
    "                                           num_workers=1)"
   ]
  },
  {
   "cell_type": "markdown",
   "metadata": {},
   "source": [
    "#### 1.3 Train Classifier"
   ]
  },
  {
   "cell_type": "code",
   "execution_count": 6,
   "metadata": {
    "scrolled": true
   },
   "outputs": [
    {
     "name": "stdout",
     "output_type": "stream",
     "text": [
      "START TRAIN.\n",
      "|Iteration 10/3195| TRAIN loss GEN/DISCR: 0.482 / 0.551 || DISCRout REAL / FAKE / GEN: 0.559 / 0.081 / 0.411\n"
     ]
    },
    {
     "data": {
      "image/png": "[encoded data removed]",
      "text/plain": [
       "<matplotlib.figure.Figure at 0x7f8206087198>"
      ]
     },
     "metadata": {},
     "output_type": "display_data"
    },
    {
     "name": "stdout",
     "output_type": "stream",
     "text": [
      "|Iteration 20/3195| TRAIN loss GEN/DISCR: 0.710 / 0.171 || DISCRout REAL / FAKE / GEN: 0.957 / 0.077 / 0.021\n"
     ]
    },
    {
     "data": {
      "image/png": "[encoded data removed]",
      "text/plain": [
       "<matplotlib.figure.Figure at 0x7f82060877f0>"
      ]
     },
     "metadata": {},
     "output_type": "display_data"
    },
    {
     "name": "stdout",
     "output_type": "stream",
     "text": [
      "|Iteration 30/3195| TRAIN loss GEN/DISCR: 0.989 / 0.016 || DISCRout REAL / FAKE / GEN: 0.979 / 0.009 / 0.010\n"
     ]
    },
    {
     "data": {
      "image/png": "[encoded data removed]",
      "text/plain": [
       "<matplotlib.figure.Figure at 0x7f82044058d0>"
      ]
     },
     "metadata": {},
     "output_type": "display_data"
    },
    {
     "name": "stderr",
     "output_type": "stream",
     "text": [
      "Process Process-1:\n",
      "Traceback (most recent call last):\n",
      "  File \"/usr/lib64/python3.6/multiprocessing/process.py\", line 258, in _bootstrap\n",
      "    self.run()\n",
      "  File \"/usr/lib64/python3.6/multiprocessing/process.py\", line 93, in run\n",
      "    self._target(*self._args, **self._kwargs)\n",
      "  File \"/usr/lib64/python3.6/site-packages/torch/utils/data/dataloader.py\", line 36, in _worker_loop\n",
      "    r = index_queue.get()\n",
      "  File \"/usr/lib64/python3.6/multiprocessing/queues.py\", line 335, in get\n",
      "    res = self._reader.recv_bytes()\n",
      "  File \"/usr/lib64/python3.6/multiprocessing/connection.py\", line 216, in recv_bytes\n",
      "    buf = self._recv_bytes(maxlength)\n",
      "  File \"/usr/lib64/python3.6/multiprocessing/connection.py\", line 407, in _recv_bytes\n",
      "    buf = self._recv(4)\n",
      "  File \"/usr/lib64/python3.6/multiprocessing/connection.py\", line 379, in _recv\n",
      "    chunk = read(handle, remaining)\n",
      "KeyboardInterrupt\n"
     ]
    },
    {
     "ename": "KeyboardInterrupt",
     "evalue": "",
     "traceback": [
      "\u001b[0;31m---------------------------------------------------------------------------\u001b[0m",
      "\u001b[0;31mKeyboardInterrupt\u001b[0m                         Traceback (most recent call last)",
      "\u001b[0;32m<ipython-input-6-4a62a49d91ff>\u001b[0m in \u001b[0;36m<module>\u001b[0;34m()\u001b[0m\n\u001b[1;32m     13\u001b[0m \u001b[0;34m\u001b[0m\u001b[0m\n\u001b[1;32m     14\u001b[0m \u001b[0;34m\u001b[0m\u001b[0m\n\u001b[0;32m---> 15\u001b[0;31m \u001b[0moutputs\u001b[0m \u001b[0;34m=\u001b[0m \u001b[0msolver\u001b[0m\u001b[0;34m.\u001b[0m\u001b[0mtrain\u001b[0m\u001b[0;34m(\u001b[0m\u001b[0mmodel\u001b[0m\u001b[0;34m,\u001b[0m \u001b[0mgen_model\u001b[0m\u001b[0;34m,\u001b[0m \u001b[0mdiscr_model\u001b[0m\u001b[0;34m,\u001b[0m \u001b[0mtrain_loader\u001b[0m\u001b[0;34m,\u001b[0m \u001b[0mlog_nth\u001b[0m\u001b[0;34m=\u001b[0m\u001b[0;36m10\u001b[0m\u001b[0;34m,\u001b[0m \u001b[0mnum_epochs\u001b[0m\u001b[0;34m=\u001b[0m\u001b[0;36m5\u001b[0m\u001b[0;34m)\u001b[0m\u001b[0;34m\u001b[0m\u001b[0m\n\u001b[0m",
      "\u001b[0;32m/home/jlappalainen/Dokumente/Deep Learning for Computer Vision/project/nervenet/solver_externalGAN.py\u001b[0m in \u001b[0;36mtrain\u001b[0;34m(self, model, gen_model, discr_model, train_loader, num_epochs, log_nth)\u001b[0m\n\u001b[1;32m    119\u001b[0m                 \u001b[0mdiscr_outputs\u001b[0m \u001b[0;34m=\u001b[0m \u001b[0mdiscr_model\u001b[0m\u001b[0;34m(\u001b[0m\u001b[0moutputs\u001b[0m\u001b[0;34m)\u001b[0m\u001b[0;34m\u001b[0m\u001b[0m\n\u001b[1;32m    120\u001b[0m                 \u001b[0mdiscr_loss_fake\u001b[0m \u001b[0;34m=\u001b[0m \u001b[0mself\u001b[0m\u001b[0;34m.\u001b[0m\u001b[0mloss_func\u001b[0m\u001b[0;34m(\u001b[0m\u001b[0mdiscr_outputs\u001b[0m\u001b[0;34m,\u001b[0m \u001b[0mfake\u001b[0m\u001b[0;34m)\u001b[0m\u001b[0;34m\u001b[0m\u001b[0m\n\u001b[0;32m--> 121\u001b[0;31m                 \u001b[0mdiscr_loss_fake\u001b[0m\u001b[0;34m.\u001b[0m\u001b[0mbackward\u001b[0m\u001b[0;34m(\u001b[0m\u001b[0;34m)\u001b[0m\u001b[0;34m\u001b[0m\u001b[0m\n\u001b[0m\u001b[1;32m    122\u001b[0m                 \u001b[0mdiscr_loss\u001b[0m \u001b[0;34m=\u001b[0m \u001b[0mdiscr_loss_real\u001b[0m \u001b[0;34m+\u001b[0m \u001b[0mdiscr_loss_fake\u001b[0m\u001b[0;34m\u001b[0m\u001b[0m\n\u001b[1;32m    123\u001b[0m                 \u001b[0mdiscr_optim\u001b[0m\u001b[0;34m.\u001b[0m\u001b[0mstep\u001b[0m\u001b[0;34m(\u001b[0m\u001b[0;34m)\u001b[0m\u001b[0;34m\u001b[0m\u001b[0m\n",
      "\u001b[0;32m/usr/lib64/python3.6/site-packages/torch/autograd/variable.py\u001b[0m in \u001b[0;36mbackward\u001b[0;34m(self, gradient, retain_graph, create_graph, retain_variables)\u001b[0m\n\u001b[1;32m    165\u001b[0m                 \u001b[0mVariable\u001b[0m\u001b[0;34m.\u001b[0m\u001b[0;34m\u001b[0m\u001b[0m\n\u001b[1;32m    166\u001b[0m         \"\"\"\n\u001b[0;32m--> 167\u001b[0;31m         \u001b[0mtorch\u001b[0m\u001b[0;34m.\u001b[0m\u001b[0mautograd\u001b[0m\u001b[0;34m.\u001b[0m\u001b[0mbackward\u001b[0m\u001b[0;34m(\u001b[0m\u001b[0mself\u001b[0m\u001b[0;34m,\u001b[0m \u001b[0mgradient\u001b[0m\u001b[0;34m,\u001b[0m \u001b[0mretain_graph\u001b[0m\u001b[0;34m,\u001b[0m \u001b[0mcreate_graph\u001b[0m\u001b[0;34m,\u001b[0m \u001b[0mretain_variables\u001b[0m\u001b[0;34m)\u001b[0m\u001b[0;34m\u001b[0m\u001b[0m\n\u001b[0m\u001b[1;32m    168\u001b[0m \u001b[0;34m\u001b[0m\u001b[0m\n\u001b[1;32m    169\u001b[0m     \u001b[0;32mdef\u001b[0m \u001b[0mregister_hook\u001b[0m\u001b[0;34m(\u001b[0m\u001b[0mself\u001b[0m\u001b[0;34m,\u001b[0m \u001b[0mhook\u001b[0m\u001b[0;34m)\u001b[0m\u001b[0;34m:\u001b[0m\u001b[0;34m\u001b[0m\u001b[0m\n",
      "\u001b[0;32m/usr/lib64/python3.6/site-packages/torch/autograd/__init__.py\u001b[0m in \u001b[0;36mbackward\u001b[0;34m(variables, grad_variables, retain_graph, create_graph, retain_variables)\u001b[0m\n\u001b[1;32m     97\u001b[0m \u001b[0;34m\u001b[0m\u001b[0m\n\u001b[1;32m     98\u001b[0m     Variable._execution_engine.run_backward(\n\u001b[0;32m---> 99\u001b[0;31m         variables, grad_variables, retain_graph)\n\u001b[0m\u001b[1;32m    100\u001b[0m \u001b[0;34m\u001b[0m\u001b[0m\n\u001b[1;32m    101\u001b[0m \u001b[0;34m\u001b[0m\u001b[0m\n",
      "\u001b[0;31mKeyboardInterrupt\u001b[0m: "
     ],
     "output_type": "error"
    }
   ],
   "source": [
    "model.binary_out = False\n",
    "model.train()\n",
    "\n",
    "solver = Solver(gen_optim_args={\"lr\": 0.0005, #0.0025, #1.e-3, #1.e-2\n",
    "                            \"betas\": (0.9, 0.999),\n",
    "                            \"eps\": 1e-8,\n",
    "                            \"weight_decay\": 0.001},\n",
    "                discr_optim_args={\"lr\": 0.00025, #0.0025, #1.e-3, #1.e-2\n",
    "                            \"betas\": (0.9, 0.999),\n",
    "                            \"eps\": 1e-8,\n",
    "                            \"weight_decay\": 0.001},\n",
    "                loss_func = torch.nn.MSELoss())\n",
    "\n",
    "\n",
    "outputs = solver.train(model, gen_model, discr_model, train_loader, log_nth=10, num_epochs=5)"
   ]
  },
  {
   "cell_type": "markdown",
   "metadata": {},
   "source": [
    "### Test your Model"
   ]
  },
  {
   "cell_type": "code",
   "execution_count": null,
   "metadata": {
    "collapsed": true
   },
   "outputs": [],
   "source": [
    "#Initialize Dataloader\n",
    "input_dim = (1, 128, 128)\n",
    "val_transforms = tu.Compose([tu.Resize(input_dim[1::]),\n",
    "                               tu.ToTensor()])\n",
    "test_data = SegmentationData(img_files,  transform = val_transforms, mode = 'test', **nums)\n",
    "test_loader = torch.utils.data.DataLoader(test_data,\n",
    "                                          batch_size=1,\n",
    "                                          shuffle=False,\n",
    "                                          num_workers=1)"
   ]
  },
  {
   "cell_type": "code",
   "execution_count": null,
   "metadata": {
    "collapsed": true
   },
   "outputs": [],
   "source": [
    "model.binary_out = True"
   ]
  },
  {
   "cell_type": "markdown",
   "metadata": {},
   "source": [
    "#### Plot Single Image"
   ]
  },
  {
   "cell_type": "code",
   "execution_count": null,
   "metadata": {
    "collapsed": true,
    "scrolled": false
   },
   "outputs": [],
   "source": [
    "model.eval()\n",
    "\n",
    "img, targets = test_data[99]\n",
    "\n",
    "target = targets['main']\n",
    "inputs = img.unsqueeze(0)\n",
    "inputs = Variable(inputs)\n",
    "\n",
    "model=model.cpu()\n",
    "\n",
    "outputs = model.forward(inputs)\n",
    "pred = outputs['main']\n",
    "_, pred = torch.max(pred, 1)\n",
    "binary_probs, binary = torch.max(outputs['binary'], 1)\n",
    "\n",
    "#Comment/Uncomment to enable/disable binary classication\n",
    "if binary.data.numpy() == 0:\n",
    "    pred = pred * 0\n",
    "    \n",
    "pred = pred.squeeze().data.cpu().numpy()\n",
    "img=np.squeeze(img)\n",
    "target = target.squeeze().numpy()\n",
    "\n",
    "fig, ax = plt.subplots(1, 3)\n",
    "ax[0].imshow(img)\n",
    "ax[0].axis('off')\n",
    "ax[1].imshow(target)\n",
    "ax[1].axis('off')\n",
    "ax[2].imshow(pred)\n",
    "ax[2].axis('off')\n",
    "plt.show()"
   ]
  },
  {
   "cell_type": "markdown",
   "metadata": {},
   "source": [
    "#### Are the binary probabilites making sense?\n",
    "I found it was quite balanced if both values were around 50%. Therefore, train with classweights = [0.25, 0.75] for 5 epochs at least."
   ]
  },
  {
   "cell_type": "code",
   "execution_count": null,
   "metadata": {
    "collapsed": true,
    "scrolled": true
   },
   "outputs": [],
   "source": [
    "outputs['binary']"
   ]
  },
  {
   "cell_type": "markdown",
   "metadata": {},
   "source": [
    "### Visualize many Images\n",
    "\n",
    "Set num_example_imgs to whatever you want and modify the slice in test_data[from:to] accordingly.\n",
    "\n",
    "#### ToDo:\n",
    "1. Border overlay of mask over image.\n",
    "2. Filter plots, weights dreaming.\n",
    "3. ...\n"
   ]
  },
  {
   "cell_type": "code",
   "execution_count": null,
   "metadata": {
    "collapsed": true,
    "scrolled": true
   },
   "outputs": [],
   "source": [
    "num_example_imgs = 20\n",
    "plt.figure(figsize=(15, 5 * num_example_imgs))\n",
    "for i, (img, targets) in enumerate(test_data[70:90]):\n",
    "    \n",
    "    target = targets['main']\n",
    "    inputs = img.unsqueeze(0)\n",
    "    inputs = Variable(inputs)\n",
    "\n",
    "    outputs = model.forward(inputs)\n",
    "    pred = outputs['main']\n",
    "    _, pred = torch.max(pred, 1)\n",
    "    binary_probs, binary = torch.max(outputs['binary'], 1)\n",
    "    \n",
    "    #If binary predicts no nerve we just multiply the predicted image with zeros.\n",
    "    #Comment/Uncomment and plot to compare with/without of binary classification\n",
    "    if binary.data.numpy() == 0:\n",
    "        pred = pred * 0\n",
    "        \n",
    "    pred = pred.squeeze().data.cpu().numpy()\n",
    "\n",
    "    img=np.squeeze(img)\n",
    "    target = target.squeeze().numpy()\n",
    "        \n",
    "    # img\n",
    "    plt.subplot(num_example_imgs, 3, i * 3 + 1)\n",
    "    plt.axis('off')\n",
    "    plt.imshow(img, cmap='gray')\n",
    "    if i == 0:\n",
    "        plt.title(\"Input image\")\n",
    "    \n",
    "    # target\n",
    "    plt.subplot(num_example_imgs, 3, i * 3 + 2)\n",
    "    plt.axis('off')\n",
    "    plt.imshow(target, cmap='gray')\n",
    "    if i == 0:\n",
    "        plt.title(\"Target image\")\n",
    "\n",
    "    # pred\n",
    "    plt.subplot(num_example_imgs, 3, i * 3 + 3)\n",
    "    plt.axis('off')\n",
    "    plt.imshow(pred, cmap='gray')\n",
    "    if i == 0:\n",
    "        plt.title(\"Prediction image\")\n",
    "    \n",
    "plt.show()"
   ]
  },
  {
   "cell_type": "markdown",
   "metadata": {},
   "source": [
    "### Dice Coefficient on Testdata"
   ]
  },
  {
   "cell_type": "code",
   "execution_count": null,
   "metadata": {
    "collapsed": true,
    "scrolled": true
   },
   "outputs": [],
   "source": [
    "def dice_coefficient(ground_truth, predicted):\n",
    "    gt = ground_truth\n",
    "    p = predicted\n",
    "    if np.sum(p) + np.sum(gt) == 0:\n",
    "        return 1\n",
    "    else:\n",
    "        dice = np.sum(p[gt==1])*2.0 / (np.sum(p*p) + np.sum(gt*gt))\n",
    "        return dice\n",
    "\n",
    "test_scores = []\n",
    "model.eval()\n",
    "for inputs, targets in test_loader:\n",
    "    inputs, targets = Variable(inputs), Variable(targets['main'])\n",
    "    if model.is_cuda:\n",
    "        inputs, targets = inputs.cuda(), targets.cuda()\n",
    "    \n",
    "    outputs = model.forward(inputs)\n",
    "    pred = outputs['main']\n",
    "    _, pred = torch.max(pred, 1)\n",
    "    _, binary = torch.max(outputs['binary'], 1)\n",
    "    \n",
    "    #Comment/Uncomment to compare with and without binary classification\n",
    "    if binary.data.numpy() == 0:\n",
    "        pred = pred * 0\n",
    "    \n",
    "    pred = pred.squeeze().data.cpu().numpy()\n",
    "    test_scores.append(dice_coefficient(np.squeeze(targets.data.numpy()), pred))\n",
    "    \n",
    "np.mean(test_scores)"
   ]
  },
  {
   "cell_type": "markdown",
   "metadata": {},
   "source": [
    "#### Highscore: score and indice of the best predicted image (with nerve)."
   ]
  },
  {
   "cell_type": "code",
   "execution_count": null,
   "metadata": {
    "collapsed": true,
    "scrolled": true
   },
   "outputs": [],
   "source": [
    "x = np.array(test_scores)\n",
    "x[x==1] = 0\n",
    "np.max(x), np.argmax(x)"
   ]
  },
  {
   "cell_type": "markdown",
   "metadata": {},
   "source": [
    "#### Other Stuff\n",
    "Calculation of ratios in datasets (interesting for balancing class weights)"
   ]
  },
  {
   "cell_type": "code",
   "execution_count": null,
   "metadata": {
    "collapsed": true
   },
   "outputs": [],
   "source": [
    "#Total ratio of pixels without/with nerve in dataset\n",
    "N = 0\n",
    "mask = 0\n",
    "for _, (img, target) in enumerate(test_data):\n",
    "    N += target['main'].numel()\n",
    "    mask += target['main'].sum()\n",
    "1 - mask/N, mask/N"
   ]
  },
  {
   "cell_type": "code",
   "execution_count": null,
   "metadata": {
    "collapsed": true
   },
   "outputs": [],
   "source": [
    "#Total ratio of images without/with nerve in dataset\n",
    "mask = 0\n",
    "for _, (img, target) in enumerate(test_data):\n",
    "    mask += target['main'].sum()>0\n",
    "1 - mask/len(test_data), mask/len(test_data)"
   ]
  },
  {
   "cell_type": "markdown",
   "metadata": {
    "collapsed": true
   },
   "source": [
    "### Stats"
   ]
  },
  {
   "cell_type": "code",
   "execution_count": null,
   "metadata": {
    "collapsed": true
   },
   "outputs": [],
   "source": [
    "-model.eval()\n",
    "model.binary_out = True\n",
    "\n",
    "sensitivity, specificity = [0, 0]\n",
    "stats = {'true_positives': 0, 'false_positives': 0, 'true_negatives': 0, 'false_negatives': 0}\n",
    "\n",
    "for i, (inputs, targets) in enumerate(test_loader):\n",
    "\n",
    "    if model.is_cuda:\n",
    "        inputs, targets = inputs.cuda(), targets.cuda()\n",
    "    target = targets['main'].cpu().numpy()\n",
    "    \n",
    "    outputs = model(inputs)\n",
    "    pred = outputs['main']\n",
    "    _, pred = torch.max(pred, 1)\n",
    "    _, binary = torch.max(outputs['binary'], 1)\n",
    "    \n",
    "    pred = pred.squeeze().data.cpu().numpy()\n",
    "    \n",
    "    ###!!! Comment in/ Comment out to include/exlude binary classification !!!###\n",
    "    if binary.data.numpy() == 0:\n",
    "        pred = pred * 0  \n",
    "    \n",
    "    target_present = 1 in target\n",
    "    pred_present = 1 in pred\n",
    "    \n",
    "    if target_present and pred_present: #correctly predicted presence of a nerve\n",
    "        stats['true_positives'] += 1 \n",
    "    elif not target_present and pred_present: #wrongly predicted presence of a nerve\n",
    "        stats['false_positives'] += 1\n",
    "    elif not target_present and not pred_present: #correctly predicted absence of a nerve\n",
    "        stats['true_negatives'] += 1\n",
    "    elif target_present and not pred_present: #wrongly predicted absence of a nerve\n",
    "        stats['false_negatives'] += 1\n",
    "    \n",
    "if((stats['true_positives'] + stats['false_negatives']) > 0):\n",
    "    sensitivity = stats['true_positives'] / (stats['true_positives'] + stats['false_negatives'])\n",
    "if((stats['true_negatives'] + stats['false_positives']) > 0):\n",
    "    specificity = stats['true_negatives'] / (stats['true_negatives'] + stats['false_positives'])\n",
    "\n",
    "print(\"Stats %s \\n Sensitivity: %s \\n Specificity: %s\" % (stats, sensitivity, specificity)) "
   ]
  },
  {
   "cell_type": "code",
   "execution_count": null,
   "metadata": {
    "collapsed": true
   },
   "outputs": [],
   "source": []
  }
 ],
 "metadata": {
  "kernelspec": {
   "display_name": "Python 3",
   "language": "python",
   "name": "python3"
  },
  "language_info": {
   "codemirror_mode": {
    "name": "ipython",
    "version": 3
   },
   "file_extension": ".py",
   "mimetype": "text/x-python",
   "name": "python",
   "nbconvert_exporter": "python",
   "pygments_lexer": "ipython3",
   "version": "3.6.4"
  }
 },
 "nbformat": 4,
 "nbformat_minor": 2
}
